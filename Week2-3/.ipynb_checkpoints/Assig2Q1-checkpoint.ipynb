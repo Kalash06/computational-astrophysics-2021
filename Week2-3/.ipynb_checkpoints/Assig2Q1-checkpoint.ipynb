{
 "cells": [
  {
   "cell_type": "code",
   "execution_count": 1,
   "id": "b4e2725f",
   "metadata": {},
   "outputs": [],
   "source": [
    "import numpy as np\n",
    "import pandas as pd\n",
    "from astropy.coordinates import SkyCoord\n",
    "from astropy import units as u\n",
    "import scipy"
   ]
  },
  {
   "cell_type": "code",
   "execution_count": 2,
   "id": "362ae1cb",
   "metadata": {},
   "outputs": [
    {
     "name": "stdout",
     "output_type": "stream",
     "text": [
      "Approximate centre of cluster 1 is:( 279.10024840836667 , -23.90191594401699 )\n",
      "Approximate centre of cluster 2 is:( 158.83323379097496 , 65.75444474392995 )\n"
     ]
    }
   ],
   "source": [
    "# To find the centers of clusters\n",
    "df = pd.read_csv('Clusters.csv')\n",
    "\n",
    "num1 = (df.Cluster == 1).sum()\n",
    "num2 = (df.Cluster == 2).sum()\n",
    "\n",
    "avgra1 = ((df.loc[df['Cluster'] == 1, 'RA'].sum())/num1)\n",
    "avgra2 = ((df.loc[df['Cluster'] == 2, 'RA'].sum())/num2)\n",
    "avgdec1 = ((df.loc[df['Cluster'] == 1, 'DEC'].sum())/num1)\n",
    "avgdec2 = ((df.loc[df['Cluster'] == 2, 'DEC'].sum())/num2)\n",
    "print(\"Approximate centre of cluster 1 is:(\", avgra1,\",\",avgdec1, \")\")\n",
    "print(\"Approximate centre of cluster 2 is:(\", avgra2,\",\",avgdec2, \")\")"
   ]
  },
  {
   "cell_type": "code",
   "execution_count": 3,
   "id": "2f37da95",
   "metadata": {},
   "outputs": [],
   "source": [
    "Mra = np.array(SkyCoord.from_name('M1').ra.degree) #Mra/dec -> Messeir ra/dec\n",
    "for i in range(2,111):\n",
    "    raval = np.array(SkyCoord.from_name('M{}'.format(i)).ra.degree)\n",
    "    Mra = np.append(Mra, raval)\n",
    "\n",
    "Mdec = np.array(SkyCoord.from_name('M1').dec.degree)\n",
    "for i in range(2,111):\n",
    "    decval = np.array(SkyCoord.from_name('M{}'.format(i)).dec.degree)\n",
    "    Mdec = np.append(Mdec, decval)\n",
    "names = np.array('Messier 1')\n",
    "for i in range(2,111):\n",
    "    name = np.array('Messier {}'.format(i))\n",
    "    names = np.append(names, name)\n",
    "\n",
    "df1 = pd.DataFrame()\n",
    "df1['Name'] = names.tolist()\n",
    "df1['Ra'] = Mra.tolist()\n",
    "df1['Dec'] = Mdec.tolist()\n",
    "df1.to_csv('Messier.csv',index = False)\n"
   ]
  },
  {
   "cell_type": "code",
   "execution_count": 4,
   "id": "19bbf9fa",
   "metadata": {},
   "outputs": [
    {
     "name": "stdout",
     "output_type": "stream",
     "text": [
      "16\n",
      "            RA        DEC  Cluster  Astrosat_Flag\n",
      "0   279.106183 -23.905930      1.0            1.0\n",
      "1   279.093075 -23.909687      1.0            1.0\n",
      "3   279.096235 -23.902155      1.0            1.0\n",
      "5   279.106220 -23.903225      1.0            1.0\n",
      "7   279.096701 -23.909327      1.0            1.0\n",
      "10  279.096388 -23.901318      1.0            1.0\n",
      "12  279.097109 -23.903232      1.0            1.0\n",
      "16  279.103280 -23.907507      1.0            1.0\n",
      "19  279.097730 -23.906234      1.0            1.0\n",
      "23  279.095832 -23.908114      1.0            1.0\n",
      "24  279.103460 -23.902953      1.0            1.0\n",
      "31  279.101534 -23.909891      1.0            1.0\n",
      "36  279.098356 -23.904618      1.0            1.0\n",
      "41  279.091233 -23.905273      1.0            1.0\n",
      "45  279.103748 -23.904481      1.0            1.0\n",
      "47  279.092739 -23.903339      1.0            1.0\n"
     ]
    }
   ],
   "source": [
    "ra1 = np.asarray(df['RA'])\n",
    "dec1 = np.asarray(df['DEC'])\n",
    "c1 = SkyCoord(ra = ra1*u.degree, dec = dec1*u.degree, frame = 'icrs')\n",
    "c2 = SkyCoord(ra = Mra*u.degree, dec = Mdec*u.degree, frame = 'icrs')\n",
    "idx, d2d, d3d = (c1).match_to_catalog_sky(c2)\n",
    "\n",
    "df['Astrosat_Flag'] = np.zeros(len(df))\n",
    "\n",
    "matches = []\n",
    "max_radius = 30./3600\n",
    "\n",
    "for id1, (closest_id2, dist) in enumerate(zip(idx, d2d)):\n",
    "    closest_dist = dist.value\n",
    "    if closest_dist < max_radius:\n",
    "        matches.append([id1, closest_id2, closest_dist])\n",
    "        df['Astrosat_Flag'][id1] = 1\n",
    "print(len(matches))\n",
    "print(df[df['Astrosat_Flag']==1])"
   ]
  },
  {
   "cell_type": "code",
   "execution_count": 5,
   "id": "93b1063f",
   "metadata": {},
   "outputs": [
    {
     "name": "stdout",
     "output_type": "stream",
     "text": [
      "1\n",
      "          Name         Ra       Dec  Astrosat_Flag\n",
      "21  Messier 22  279.09975 -23.90475            1.0\n"
     ]
    },
    {
     "name": "stderr",
     "output_type": "stream",
     "text": [
      "<ipython-input-5-c60bb10b3a12>:12: SettingWithCopyWarning: \n",
      "A value is trying to be set on a copy of a slice from a DataFrame\n",
      "\n",
      "See the caveats in the documentation: https://pandas.pydata.org/pandas-docs/stable/user_guide/indexing.html#returning-a-view-versus-a-copy\n",
      "  df1['Astrosat_Flag'][id1] = 1\n"
     ]
    }
   ],
   "source": [
    "idx1, d2d1, d3d1 = (c2).match_to_catalog_sky(c1)\n",
    "\n",
    "df1['Astrosat_Flag'] = np.zeros(len(df1))\n",
    "\n",
    "matches1 = []\n",
    "max_radius = 30./3600\n",
    "\n",
    "for id1, (closest_id2, dist) in enumerate(zip(idx1, d2d1)):\n",
    "    closest_dist = dist.value\n",
    "    if closest_dist < max_radius:\n",
    "        matches1.append([id1, closest_id2, closest_dist])\n",
    "        df1['Astrosat_Flag'][id1] = 1\n",
    "print(len(matches1))\n",
    "print(df1[df1['Astrosat_Flag']==1])"
   ]
  },
  {
   "cell_type": "markdown",
   "id": "462be841",
   "metadata": {},
   "source": [
    "So we conclude that cluster 1 is Messier 22 and cluster 2 is not a Messier."
   ]
  }
 ],
 "metadata": {
  "kernelspec": {
   "display_name": "Python 3",
   "language": "python",
   "name": "python3"
  },
  "language_info": {
   "codemirror_mode": {
    "name": "ipython",
    "version": 3
   },
   "file_extension": ".py",
   "mimetype": "text/x-python",
   "name": "python",
   "nbconvert_exporter": "python",
   "pygments_lexer": "ipython3",
   "version": "3.8.8"
  }
 },
 "nbformat": 4,
 "nbformat_minor": 5
}
