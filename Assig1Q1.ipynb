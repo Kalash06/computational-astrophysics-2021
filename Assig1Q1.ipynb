{
 "cells": [
  {
   "cell_type": "code",
   "execution_count": 1,
   "id": "2fde7a39",
   "metadata": {},
   "outputs": [],
   "source": [
    "import csv\n",
    "import math"
   ]
  },
  {
   "cell_type": "code",
   "execution_count": 3,
   "id": "e5455813",
   "metadata": {},
   "outputs": [
    {
     "name": "stdout",
     "output_type": "stream",
     "text": [
      "1380.9685750179322\n"
     ]
    }
   ],
   "source": [
    "filename = 'Starfish_Data.csv'\n",
    "field = []\n",
    "rows = []\n",
    "avgd = 0\n",
    "totprob = 0\n",
    "with open(filename, 'r') as csvfile:\n",
    "        csvreader = csv.reader(csvfile)\n",
    "        fields = next(csvreader)\n",
    "        for row in csvreader:\n",
    "            rows.append(row)\n",
    "            d = (10**(0.2 * (float(row[0]) + 2.5*float(row[1]) + 0.17))) * (float(row[2]))\n",
    "            avgd += d\n",
    "            totprob += float(row[2])\n",
    "print(avgd/totprob)\n",
    "        "
   ]
  }
 ],
 "metadata": {
  "kernelspec": {
   "display_name": "Python 3",
   "language": "python",
   "name": "python3"
  },
  "language_info": {
   "codemirror_mode": {
    "name": "ipython",
    "version": 3
   },
   "file_extension": ".py",
   "mimetype": "text/x-python",
   "name": "python",
   "nbconvert_exporter": "python",
   "pygments_lexer": "ipython3",
   "version": "3.8.8"
  }
 },
 "nbformat": 4,
 "nbformat_minor": 5
}
